{
 "cells": [
  {
   "cell_type": "code",
   "execution_count": 1,
   "metadata": {},
   "outputs": [],
   "source": [
    "import numpy as np\n",
    "import matplotlib.pyplot as plt\n",
    "from matplotlib import cm\n",
    "from matplotlib.ticker import LinearLocator, FormatStrFormatter\n",
    "import xarray as xr\n",
    "import pandas as pd\n",
    "from sklearn.preprocessing import MinMaxScaler"
   ]
  },
  {
   "cell_type": "code",
   "execution_count": 2,
   "metadata": {},
   "outputs": [],
   "source": [
    "import tensorflow\n",
    "\n",
    "#Tuve problemas con tensorflow cuando me cambié a Mac, te puedo ayudar si estás muy complicado"
   ]
  },
  {
   "cell_type": "code",
   "execution_count": 3,
   "metadata": {},
   "outputs": [],
   "source": [
    "from tensorflow.keras.models import Sequential \n",
    "from tensorflow.keras.layers import AveragePooling2D, LSTM, Dense,Dropout"
   ]
  },
  {
   "cell_type": "code",
   "execution_count": 126,
   "metadata": {},
   "outputs": [],
   "source": [
    "#Ubicación de los archivos\n",
    "\n",
    "#path = r\"/Users/javier/Documents/Data/\"     \n",
    "path2 = r\"/Users/javier/Downloads/\"\n",
    "\n",
    "dswind= xr.open_dataset(path2 + 'SLP.nc') # set de presión\n",
    "\n",
    "df0 = pd.read_csv(path2 + 'NCEP_Spectra2.csv',index_col='Unnamed: 0')  #Sólo los parámetros de oleaje, no es el espectro completo.\n",
    "\n",
    "\n",
    "\n",
    "Desde = '2009-01-01 03:00:00'\n",
    "\n",
    "Hasta = '2009-12-30 21:00:00'\n",
    "\n",
    "#Datos de Presión \n",
    "\n",
    "Presion = dswind.msl.sel(time=slice(Desde,  Hasta),longitude=slice(-130,-60),latitude=slice(-20,-70))\n",
    "\n",
    "Hm0 = df0[Desde: Hasta]['Hm0']\n",
    "\n",
    "Fechas = df0[Desde: Hasta].index\n",
    "\n",
    "### BCA: no me gusta perder la información de las fechas. \n",
    "### en principio puedes hacer todo con el índice, y sólo al momento de ajustar tu regresor \n",
    "### darle los datos y quedarte tú con las fechas\n",
    "\n",
    "# cuando manipulo los datos usando .data, se pierden los índices, por lo que al primer reshape, pierdo el indice\n",
    "# lo mejor que puedo hacer es guardar en Fechas los índices, y procurar que no se desordenen los indices."
   ]
  },
  {
   "cell_type": "code",
   "execution_count": 93,
   "metadata": {
    "scrolled": false
   },
   "outputs": [],
   "source": [
    "'''\n",
    "Hace un avarage pooling y luego un flatten si se le pide.\n",
    "\n",
    "'''\n",
    "\n",
    "### Si bien entiendo que el pooling se hace para que sea más rápido... probaste hacerlo sin pooling?\n",
    "\n",
    "# Probé varias veces. se demora mucho más y no soluciona el problema.\n",
    "\n",
    "###  Nunca lo había visto usado fuera de una NN. Quizás es útil, quizás más complicado de lo necesario?\n",
    "\n",
    "# esque si no lo usamos, a la red neuronal después le entran miles de parámetros y se demora demasiado, estaría de acuerdo con sacarlo pero agregando una convolución a cambio.\n",
    "\n",
    "def resize(Wind,i,flat=False):\n",
    "    \n",
    "    Wind = Wind.reshape(Wind.shape[0], Wind.shape[1], Wind.shape[2],1)\n",
    "\n",
    "    Average_pool = AveragePooling2D(pool_size = 10*i, strides= 10*i) #el poolsize y stride, están pensados para las futuras iteraciones\n",
    "\n",
    "    model = Sequential([Average_pool]) \n",
    "\n",
    "    output = model.predict(Wind)    \n",
    "    \n",
    "    Wind = np.squeeze(output) \n",
    "    \n",
    "    \n",
    "    if flat:\n",
    "        \n",
    "        Wind = Wind.reshape(Wind.shape[0],-1)\n",
    "    \n",
    "    \n",
    "    return Wind\n",
    "\n",
    "\n",
    "def gradiente(X):\n",
    "    \n",
    "    grad = np.zeros(X.shape)\n",
    "    \n",
    "    for i in range(1,grad.shape[1]-1):\n",
    "        \n",
    "        for j in range(1,grad.shape[2]-1):\n",
    "            \n",
    "            grad[:,i,j] = np.sqrt((X[:,i-1,j]-X[:,i+1,j])**2 + (X[:,i,j-1]-X[:,i,j+1])**2) #magnitud de gradiente aunque le falta ser dividida por el diferencial de distancia entre puntos, pero al ser constante para todos los valores no debería afectar.\n",
    "    \n",
    "    return grad\n",
    "\n",
    "\n",
    "def flatten(Var):\n",
    "    \n",
    "    return Var.reshape(Var.shape[0], Var.shape[1]*Var.shape[2])"
   ]
  },
  {
   "cell_type": "code",
   "execution_count": 127,
   "metadata": {},
   "outputs": [
    {
     "name": "stdout",
     "output_type": "stream",
     "text": [
      "(2911, 201, 281)\n"
     ]
    }
   ],
   "source": [
    "shape = Presion.data.shape\n",
    "\n",
    "Pres = resize(Presion.data, 1, False)  \n",
    "\n",
    "print(shape)\n",
    "#Probe sin pooling y el código es muy muy lento y no entrega mejores resultados "
   ]
  },
  {
   "cell_type": "code",
   "execution_count": 128,
   "metadata": {},
   "outputs": [],
   "source": [
    "Gradiente = flatten(gradiente(Pres))\n",
    "\n",
    "Pres = flatten(Pres)"
   ]
  },
  {
   "cell_type": "code",
   "execution_count": 129,
   "metadata": {},
   "outputs": [],
   "source": [
    "X = np.append(Pres,Gradiente,axis=1)  #al juntar presión con gradiente, desp tendrémos un problema para escalar, porque tienen valores muy distintos.\n",
    "\n",
    "Y = np.array(Hm0).reshape(-1,1)\n",
    "\n",
    "#se pierde el indice, pero está guardado en Fechas."
   ]
  },
  {
   "cell_type": "code",
   "execution_count": 108,
   "metadata": {},
   "outputs": [],
   "source": [
    "'''\n",
    "Aquí se divide la serie de tiempo en sub series de tiempo de tamaño timestep.\n",
    "\n",
    "Input dim: (Serie/timestep, timestep, parámetro)\n",
    "'''    \n",
    "\n",
    "### me parece que esto es más complicado de lo necesario...\n",
    "### porque no usar simplemente reshape?\n",
    "### hint: tratar de mantener los índices para estar seguro que todo calza\n",
    "\n",
    "# cambié el for por un reshape, funciona igual pero más rápido\n",
    "\n",
    "def dividir(Var, step):\n",
    "\n",
    "    return Var[:(Var.shape[0]//step)*step].reshape(Var.shape[0]//step, step, Var.shape[1])\n",
    "\n",
    "\n",
    "def juntar(Var):\n",
    "    \n",
    "    return Var.reshape(Var.shape[0]*Var.shape[1],1)"
   ]
  },
  {
   "cell_type": "code",
   "execution_count": 110,
   "metadata": {},
   "outputs": [],
   "source": [
    "#para mostrar como divide\n",
    "\n",
    "u = np.arange(1,21).reshape(-1,1)\n",
    "\n",
    "dividir(u, 5)"
   ]
  },
  {
   "cell_type": "code",
   "execution_count": 63,
   "metadata": {},
   "outputs": [],
   "source": [
    "#para mostrar como junta \n",
    "\n",
    "juntar(dividir(u, 5))\n",
    "\n",
    "#podemos ver que el proceso de división y juntado está funcionando bien."
   ]
  },
  {
   "cell_type": "code",
   "execution_count": 130,
   "metadata": {},
   "outputs": [],
   "source": [
    "'''\n",
    "Preparamos los datos para modelar.\n",
    "'''\n",
    "\n",
    "### escalar siempre es buena idea, pero hay que hacerlo consistentemente\n",
    "### en este código cada variable, X e Y, están siendo escaladas de forma distinta\n",
    "### más aún: nuevos X e Y serán escalados de forma distinta\n",
    "### has probado hacerlo sin escalar?\n",
    "### https://scikit-learn.org/stable/modules/generated/sklearn.preprocessing.MinMaxScaler.html\n",
    "\n",
    "# He probado escalando cada variable con un \"escalador\" MinMax distinto,\n",
    "# y he probado también sin escalar de todas las combinaciones. Solo empeora.\n",
    "\n",
    "\n",
    "scx = MinMaxScaler([0,1])\n",
    "\n",
    "scx2 = MinMaxScaler([0,1])\n",
    "\n",
    "timestep = 1000\n",
    "\n",
    "\n",
    "X_div =  dividir(scx.fit_transform(X), timestep)\n",
    "\n",
    "Y_div = dividir(scx2.fit_transform(Y), timestep)\n",
    "\n",
    "m = X_div.shape[0]\n",
    "\n",
    "x_train, x_test = X_div[:int(m*0.8)], X_div[int(m*0.8):]\n",
    "\n",
    "y_train, y_test = Y_div[:int(m*0.8)], Y_div[int(m*0.8):]\n"
   ]
  },
  {
   "cell_type": "code",
   "execution_count": 112,
   "metadata": {},
   "outputs": [
    {
     "name": "stdout",
     "output_type": "stream",
     "text": [
      "X_train shape:  (1, 1000, 1120)\n",
      "Y_train shape:  (1, 1000, 1)\n"
     ]
    }
   ],
   "source": [
    "\n",
    "print('X_train shape: ', x_train.shape)\n",
    "print('Y_train shape: ', y_train.shape)\n",
    "\n",
    "\n",
    "### originalmente esto dice:\n",
    "# X_train shape:  (1, 1000, 54)\n",
    "# Y_train shape:  (1, 1000, 1)\n",
    "\n",
    "### pero según tu esquema esto debería tener forma (numero de params, numero de timesteps, cantidad de muestras) para X\n",
    "### y para Y debería ser (1, numero de timesteps, cantidad de muestras)\n",
    "\n",
    "#### JH: La forma es (muestras, timesteps, parámetros),el esquema se está explicando mal o alreves, lo arreglaré.\n",
    "\n"
   ]
  },
  {
   "cell_type": "code",
   "execution_count": 131,
   "metadata": {},
   "outputs": [
    {
     "name": "stdout",
     "output_type": "stream",
     "text": [
      "Epoch 1/30\n",
      "1/1 [==============================] - 1s 1s/step - loss: 0.2270\n",
      "Epoch 2/30\n",
      "1/1 [==============================] - 0s 337ms/step - loss: 0.1839\n",
      "Epoch 3/30\n",
      "1/1 [==============================] - 0s 340ms/step - loss: 0.1622\n",
      "Epoch 4/30\n",
      "1/1 [==============================] - 0s 348ms/step - loss: 0.1425\n",
      "Epoch 5/30\n",
      "1/1 [==============================] - 0s 343ms/step - loss: 0.1212\n",
      "Epoch 6/30\n",
      "1/1 [==============================] - 0s 342ms/step - loss: 0.0992\n",
      "Epoch 7/30\n",
      "1/1 [==============================] - 0s 345ms/step - loss: 0.0788\n",
      "Epoch 8/30\n",
      "1/1 [==============================] - 0s 352ms/step - loss: 0.0618\n",
      "Epoch 9/30\n",
      "1/1 [==============================] - 0s 351ms/step - loss: 0.0487\n",
      "Epoch 10/30\n",
      "1/1 [==============================] - 0s 331ms/step - loss: 0.0385\n",
      "Epoch 11/30\n",
      "1/1 [==============================] - 0s 335ms/step - loss: 0.0303\n",
      "Epoch 12/30\n",
      "1/1 [==============================] - 0s 338ms/step - loss: 0.0238\n",
      "Epoch 13/30\n",
      "1/1 [==============================] - 0s 338ms/step - loss: 0.0185\n",
      "Epoch 14/30\n",
      "1/1 [==============================] - 0s 337ms/step - loss: 0.0143\n",
      "Epoch 15/30\n",
      "1/1 [==============================] - 0s 347ms/step - loss: 0.0112\n",
      "Epoch 16/30\n",
      "1/1 [==============================] - 0s 349ms/step - loss: 0.0090\n",
      "Epoch 17/30\n",
      "1/1 [==============================] - 0s 343ms/step - loss: 0.0076\n",
      "Epoch 18/30\n",
      "1/1 [==============================] - 0s 344ms/step - loss: 0.0068\n",
      "Epoch 19/30\n",
      "1/1 [==============================] - 0s 340ms/step - loss: 0.0064\n",
      "Epoch 20/30\n",
      "1/1 [==============================] - 0s 367ms/step - loss: 0.0062\n",
      "Epoch 21/30\n",
      "1/1 [==============================] - 0s 361ms/step - loss: 0.0060\n",
      "Epoch 22/30\n",
      "1/1 [==============================] - 0s 357ms/step - loss: 0.0058\n",
      "Epoch 23/30\n",
      "1/1 [==============================] - 0s 411ms/step - loss: 0.0056\n",
      "Epoch 24/30\n",
      "1/1 [==============================] - 0s 382ms/step - loss: 0.0052\n",
      "Epoch 25/30\n",
      "1/1 [==============================] - 0s 362ms/step - loss: 0.0047\n",
      "Epoch 26/30\n",
      "1/1 [==============================] - 0s 418ms/step - loss: 0.0043\n",
      "Epoch 27/30\n",
      "1/1 [==============================] - 0s 383ms/step - loss: 0.0038\n",
      "Epoch 28/30\n",
      "1/1 [==============================] - 0s 367ms/step - loss: 0.0033\n",
      "Epoch 29/30\n",
      "1/1 [==============================] - 0s 357ms/step - loss: 0.0028\n",
      "Epoch 30/30\n",
      "1/1 [==============================] - 0s 361ms/step - loss: 0.0024\n"
     ]
    },
    {
     "data": {
      "text/plain": [
       "<tensorflow.python.keras.callbacks.History at 0x7fdadba39490>"
      ]
     },
     "execution_count": 131,
     "metadata": {},
     "output_type": "execute_result"
    }
   ],
   "source": [
    "### esta es la arquitectura del paper?\n",
    "### creo que hecho de menos unos layers dropout\n",
    "\n",
    "model = Sequential()\n",
    "\n",
    "model.add(LSTM(units= 128,return_sequences=False ,input_shape=(x_train.shape[1],x_train.shape[2])))\n",
    "\n",
    "#model.add(LSTM(units= y_train.shape[1]))\n",
    "\n",
    "model.add(Dense(units=y_train.shape[1]))\n",
    "\n",
    "model.compile(optimizer='adam', loss='mse')\n",
    "\n",
    "model.fit(x_train,y_train,epochs= 30,batch_size=1)#,validation_split=0)"
   ]
  },
  {
   "cell_type": "code",
   "execution_count": 132,
   "metadata": {},
   "outputs": [],
   "source": [
    "'''\n",
    "Hace la inversa a los datos luego de obtener la estimación.\n",
    "'''\n",
    "### mismo comentario anteior\n",
    "### fijate que scx no ha sido seteado por ningun set de datos\n",
    "### como sabe scx con qué valores re-escalar?\n",
    "### si bien es util escalar porque aumenta la presición... no será mejor partir con los datos tal cual?\n",
    "### hay que ir agregando complejidad sólo a medida que sea necesario\n",
    "\n",
    "y_pred_train = scx2.inverse_transform(juntar(model.predict(x_train)))\n",
    "\n",
    "y_train = scx2.inverse_transform(juntar(y_train))\n",
    "\n",
    "y_pred_test = scx2.inverse_transform(juntar(model.predict(x_test)))\n",
    "\n",
    "y_test = scx2.inverse_transform(juntar(y_test))\n",
    "\n",
    "### adicionalmente, haces una predición, pero no hay cómo saber a qué fechas corresponden"
   ]
  },
  {
   "cell_type": "code",
   "execution_count": 133,
   "metadata": {},
   "outputs": [
    {
     "data": {
      "image/png": "[encoded data removed]",
      "text/plain": [
       "<Figure size 720x360 with 2 Axes>"
      ]
     },
     "metadata": {},
     "output_type": "display_data"
    }
   ],
   "source": [
    "fig, axs = plt.subplots(1, 2, figsize=(10,5))\n",
    "\n",
    "axs[0].set_title('Hm0, Set de entrenamiento',fontsize=18)\n",
    "axs[0].plot([1,5],[1,5],'--',0.5,color='grey')\n",
    "axs[0].plot(y_train[:3000],y_pred_train[:3000],'.',color='Black')\n",
    "axs[0].set_xlabel('Observado',size=18)\n",
    "axs[0].set_ylabel('Estimado',size=18)\n",
    "axs[0].set_ylim(1,5)\n",
    "axs[0].set_xlim(1,5)\n",
    "axs[0].text(3.5,1.25,'R: '+str(np.round(np.corrcoef(y_train.T,(y_pred_train).T)[0,1],3)),size=20)\n",
    "\n",
    "\n",
    "axs[1].set_title('Hm0, Set de validación',fontsize=18)\n",
    "axs[1].plot([1,5],[1,5],'--',0.5,color='grey')\n",
    "axs[1].plot(y_test[:3000],y_pred_test[:3000],'.',color='Black')\n",
    "axs[1].set_xlabel('Observado',size=18)\n",
    "axs[1].set_ylabel('Estimado',size=18)\n",
    "axs[1].set_ylim(1,5)\n",
    "axs[1].set_xlim(1,5)\n",
    "axs[1].text(3.5,1.25,'R: '+str(np.round(np.corrcoef(y_test.T,y_pred_test.T)[0,1],3)),size=20)\n",
    "\n",
    "fig.set_facecolor('w')\n",
    "fig.tight_layout()\n",
    "plt.show()\n",
    "\n",
    "fig.savefig(\"Pred_LSTM_presion y grad_500var_50epochs_con escalar\",dpi=300)\n"
   ]
  }
 ],
 "metadata": {
  "kernelspec": {
   "display_name": "Python 3",
   "language": "python",
   "name": "python3"
  },
  "language_info": {
   "codemirror_mode": {
    "name": "ipython",
    "version": 3
   },
   "file_extension": ".py",
   "mimetype": "text/x-python",
   "name": "python",
   "nbconvert_exporter": "python",
   "pygments_lexer": "ipython3",
   "version": "3.8.5"
  },
  "toc": {
   "base_numbering": 1,
   "nav_menu": {},
   "number_sections": true,
   "sideBar": false,
   "skip_h1_title": false,
   "title_cell": "Table of Contents",
   "title_sidebar": "Contents",
   "toc_cell": false,
   "toc_position": {},
   "toc_section_display": true,
   "toc_window_display": false
  }
 },
 "nbformat": 4,
 "nbformat_minor": 4
}
